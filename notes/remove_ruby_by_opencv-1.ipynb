{
 "cells": [
  {
   "cell_type": "markdown",
   "metadata": {},
   "source": [
    "# ルビ付きの日本語文章に対するORC by OpenCV\n",
    "- [OpenCVをPythonで文字の場所をレシートから取得する](https://qiita.com/ChibaDai/items/875d767d260151974c89)\n"
   ]
  },
  {
   "cell_type": "code",
   "execution_count": 1,
   "metadata": {},
   "outputs": [
    {
     "data": {
      "text/plain": [
       "True"
      ]
     },
     "execution_count": 1,
     "metadata": {},
     "output_type": "execute_result"
    }
   ],
   "source": [
    "import cv2\n",
    "import numpy as np\n",
    "\n",
    "image_path = '../data/kokoro-rubi-1.png'\n",
    "image = cv2.imread(image_path)\n",
    "gray = cv2.cvtColor(image, cv2.COLOR_BGR2GRAY)\n",
    "\n",
    "# 二値化処理\n",
    "_, binary = cv2.threshold(gray, 0, 255, cv2.THRESH_BINARY_INV + cv2.THRESH_OTSU)\n",
    "\n",
    "# 形態学的変換を使用して小さいテキスト領域を強調\n",
    "# ルビ用のカーネル\n",
    "kernel_ruby = cv2.getStructuringElement(cv2.MORPH_RECT, (2, 2))\n",
    "dilated_ruby = cv2.dilate(binary, kernel_ruby, iterations=1)\n",
    "\n",
    "# メインテキスト用のカーネル\n",
    "kernel_main = cv2.getStructuringElement(cv2.MORPH_RECT, (5, 5))\n",
    "dilated_main = cv2.dilate(binary, kernel_main, iterations=1)\n",
    "\n",
    "# ルビの輪郭を検出\n",
    "contours_ruby, _ = cv2.findContours(dilated_ruby, cv2.RETR_EXTERNAL, cv2.CHAIN_APPROX_SIMPLE)\n",
    "for contour in contours_ruby:\n",
    "    x, y, w, h = cv2.boundingRect(contour)\n",
    "    # 小さいバウンディングボックス（ルビ）に対して赤色で描画\n",
    "    cv2.rectangle(image, (x, y), (x+w, y+h), (0, 0, 255), 1)\n",
    "\n",
    "# メインテキストの輪郭を検出\n",
    "# contours_main, _ = cv2.findContours(dilated_main, cv2.RETR_EXTERNAL, cv2.CHAIN_APPROX_SIMPLE)\n",
    "# for contour in contours_main:\n",
    "#     x, y, w, h = cv2.boundingRect(contour)\n",
    "#     # より大きいバウンディングボックス（メインテキスト）に対して緑色で描画\n",
    "#     cv2.rectangle(image, (x, y), (x+w, y+h), (0, 255, 0), 2)\n",
    "\n",
    "# 結果の表示\n",
    "cv2.imwrite('../data/result_opencv_bounding_box.jpg', image)"
   ]
  },
  {
   "cell_type": "markdown",
   "metadata": {},
   "source": [
    "検出された文字をBBOXで囲んだもの。  \n",
    "ルビのBBOXを利用して削除するのは難しそう。\n",
    "\n",
    "<img src=\"../data/result_opencv_bounding_box.jpg\">\n"
   ]
  }
 ],
 "metadata": {
  "kernelspec": {
   "display_name": ".venv",
   "language": "python",
   "name": "python3"
  },
  "language_info": {
   "codemirror_mode": {
    "name": "ipython",
    "version": 3
   },
   "file_extension": ".py",
   "mimetype": "text/x-python",
   "name": "python",
   "nbconvert_exporter": "python",
   "pygments_lexer": "ipython3",
   "version": "3.11.2"
  }
 },
 "nbformat": 4,
 "nbformat_minor": 2
}
