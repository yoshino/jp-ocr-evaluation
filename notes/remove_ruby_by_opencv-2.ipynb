{
 "cells": [
  {
   "cell_type": "markdown",
   "metadata": {},
   "source": [
    "# OpenCVを利用してルビを削除する"
   ]
  },
  {
   "cell_type": "code",
   "execution_count": 107,
   "metadata": {},
   "outputs": [],
   "source": [
    "import cv2\n",
    "import numpy as np\n",
    "import matplotlib.pyplot as plt\n",
    "\n",
    "def remove_ruby(input_file_path: str, output_file_path: str):\n",
    "    image = cv2.imread(input_file_path)\n",
    "    gray = cv2.cvtColor(image, cv2.COLOR_BGR2GRAY)\n",
    "    \n",
    "    max_height, max_width = image.shape[:2]\n",
    "    \n",
    "    _, binary = cv2.threshold(gray, 0, 255, cv2.THRESH_BINARY_INV + cv2.THRESH_OTSU)\n",
    "    \n",
    "    kernel_ruby = cv2.getStructuringElement(cv2.MORPH_RECT, (5, 5))\n",
    "    dilated_ruby = cv2.dilate(binary, kernel_ruby, iterations=1)\n",
    "    \n",
    "    contours_ruby, _ = cv2.findContours(dilated_ruby, cv2.RETR_EXTERNAL, cv2.CHAIN_APPROX_SIMPLE)\n",
    "    x_coordinates = [cv2.boundingRect(contour)[2] for contour in contours_ruby]\n",
    "    median = np.median(x_coordinates)\n",
    "    \n",
    "    for contour in contours_ruby:\n",
    "        x, y, _, h = cv2.boundingRect(contour)\n",
    "        if h < 30:\n",
    "            continue\n",
    "        cv2.rectangle(image, (int(x+median) + 2, 0), (int(x+median) + 10, max_height), (255, 255, 255), -1)\n",
    "    \n",
    "    cv2.imwrite(output_file_path, image)"
   ]
  },
  {
   "cell_type": "code",
   "execution_count": 110,
   "metadata": {},
   "outputs": [],
   "source": [
    "remove_ruby('../data/kokoro-ruby-1.png', '../data/kokoro-without-ruby-1.png')\n",
    "remove_ruby('../data/kokoro-ruby-2.png', '../data/kokoro-without-ruby-2.png')"
   ]
  },
  {
   "cell_type": "markdown",
   "metadata": {},
   "source": [
    "kokoro-without-ruby-1.png: \n",
    "\n",
    "<img src=\"../data/kokoro-without-ruby-1.png\" >"
   ]
  },
  {
   "cell_type": "markdown",
   "metadata": {},
   "source": [
    "kokoro-without-ruby-2.png: \n",
    "\n",
    "<img src=\"../data/kokoro-without-ruby-2.png\" >"
   ]
  }
 ],
 "metadata": {
  "kernelspec": {
   "display_name": ".venv",
   "language": "python",
   "name": "python3"
  },
  "language_info": {
   "codemirror_mode": {
    "name": "ipython",
    "version": 3
   },
   "file_extension": ".py",
   "mimetype": "text/x-python",
   "name": "python",
   "nbconvert_exporter": "python",
   "pygments_lexer": "ipython3",
   "version": "3.11.2"
  }
 },
 "nbformat": 4,
 "nbformat_minor": 2
}
