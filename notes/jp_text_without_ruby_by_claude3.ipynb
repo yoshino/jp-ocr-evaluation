{
 "cells": [
  {
   "cell_type": "markdown",
   "metadata": {},
   "source": [
    "# ルビなしの日本語文章に対するORC by Anthropic Claude3\n",
    "- APIキーを取得してセットする(from [here](https://console.anthropic.com/dashboard))\n",
    "- https://docs.anthropic.com/claude/docs/vision"
   ]
  },
  {
   "cell_type": "code",
   "execution_count": 3,
   "metadata": {},
   "outputs": [],
   "source": [
    "import os\n",
    "from pathlib import Path\n",
    "from dotenv import load_dotenv\n",
    "from anthropic import Anthropic\n",
    "\n",
    "load_dotenv(verbose=True)\n",
    "\n",
    "client = Anthropic(\n",
    "    api_key=os.environ.get(\"ANTHROPIC_API_KEY\"),\n",
    ")"
   ]
  },
  {
   "cell_type": "code",
   "execution_count": 13,
   "metadata": {},
   "outputs": [],
   "source": [
    "import base64\n",
    "\n",
    "def encode_image(image_path):    \n",
    "    with open(image_path, \"rb\") as image_file:\n",
    "        return base64.b64encode(image_file.read()).decode('utf-8')\n",
    "\n",
    "SYSTEM_PROMPT = \"\"\"\n",
    "You are an Optical Character Recognition (OCR) machine. \n",
    "You will extract all the characters from the image file in the URL provided by the user, \n",
    "and you will only provide the extracted text in your response. \n",
    "As an OCR machine, You can only respond with the extracted text.\n",
    "\"\"\"\n",
    "\n",
    "USER_PROMPT = \"\"\"\n",
    "Please extract all characters within the image. Return the only extracted characters.\n",
    "\"\"\"\n",
    "\n",
    "def extract_text(image_path: str) -> str:\n",
    "    base64_image = encode_image(image_path)\n",
    "\n",
    "    response = client.messages.create(\n",
    "        max_tokens=1024,\n",
    "        messages=[\n",
    "            {\n",
    "                \"role\": \"user\",\n",
    "                \"content\": [\n",
    "                    {\n",
    "                        \"type\": \"text\",\n",
    "                        \"text\": USER_PROMPT,\n",
    "                    },\n",
    "                    {\n",
    "                        \"type\": \"image\",\n",
    "                        \"source\": {\n",
    "                            \"type\": \"base64\",\n",
    "                            \"media_type\": \"image/png\",\n",
    "                            \"data\": base64_image,\n",
    "                        },\n",
    "                    },\n",
    "                ],\n",
    "            },\n",
    "        ],\n",
    "        model=\"claude-3-opus-20240229\",\n",
    "    )\n",
    "    return response"
   ]
  },
  {
   "cell_type": "code",
   "execution_count": 14,
   "metadata": {},
   "outputs": [],
   "source": [
    "image_path = \"../data/kokoro-without-ruby-1.png\"\n",
    "response = extract_text(image_path)"
   ]
  },
  {
   "cell_type": "code",
   "execution_count": 16,
   "metadata": {},
   "outputs": [
    {
     "data": {
      "text/plain": [
       "Message(id='msg_01788LSRnCjcDEjKZfYo3jMR', content=[ContentBlock(text='一私かの悲人にならそとしく同年長がな利用生きの回わ静かにわい先生を私けを同に頭あ人ろのう知れらそしでし曇りく手けでいな先生が日のも何じあ。流そる先生のたま休を水ているよ。空から人私通るな、し先生という電なはで私先生の海を私先生と一先生があるちゃるこ。そだ私たこからつて先生はがで先生も私先生って先生っ私先生がろ先生もろだ先生って自先生の海、私先生が先生の先生っ先生てあ先生って先生を私先生の私先生まい先生に先生じし私先生でいる流先生。私先生のすあ先生', type='text')], model='claude-3-opus-20240229', role='assistant', stop_reason='end_turn', stop_sequence=None, type='message', usage=Usage(input_tokens=1664, output_tokens=236))"
      ]
     },
     "execution_count": 16,
     "metadata": {},
     "output_type": "execute_result"
    }
   ],
   "source": [
    "response"
   ]
  }
 ],
 "metadata": {
  "kernelspec": {
   "display_name": ".venv",
   "language": "python",
   "name": "python3"
  },
  "language_info": {
   "codemirror_mode": {
    "name": "ipython",
    "version": 3
   },
   "file_extension": ".py",
   "mimetype": "text/x-python",
   "name": "python",
   "nbconvert_exporter": "python",
   "pygments_lexer": "ipython3",
   "version": "3.11.2"
  }
 },
 "nbformat": 4,
 "nbformat_minor": 2
}
