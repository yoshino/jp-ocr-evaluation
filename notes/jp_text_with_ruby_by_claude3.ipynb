{
 "cells": [
  {
   "cell_type": "markdown",
   "metadata": {},
   "source": [
    "# ルビ付きの日本語文章に対するORC by Anthropic Claude3\n",
    "- APIキーを取得してセットする(from [here](https://console.anthropic.com/dashboard))\n",
    "- https://docs.anthropic.com/claude/docs/vision"
   ]
  },
  {
   "cell_type": "code",
   "execution_count": 3,
   "metadata": {},
   "outputs": [],
   "source": [
    "import os\n",
    "from pathlib import Path\n",
    "from dotenv import load_dotenv\n",
    "from anthropic import Anthropic\n",
    "\n",
    "load_dotenv(verbose=True)\n",
    "\n",
    "client = Anthropic(\n",
    "    api_key=os.environ.get(\"ANTHROPIC_API_KEY\"),\n",
    ")"
   ]
  },
  {
   "cell_type": "code",
   "execution_count": 12,
   "metadata": {},
   "outputs": [],
   "source": [
    "import base64\n",
    "\n",
    "def encode_image(image_path):    \n",
    "    with open(image_path, \"rb\") as image_file:\n",
    "        return base64.b64encode(image_file.read()).decode('utf-8')\n",
    "\n",
    "USER_PROMPT = \"\"\"\n",
    "Please extract all characters within the image. Return the only extracted characters.\n",
    "\"\"\"\n",
    "\n",
    "def extract_text(image_path: str) -> str:\n",
    "    base64_image = encode_image(image_path)\n",
    "\n",
    "    response = client.messages.create(\n",
    "        max_tokens=1024,\n",
    "        messages=[\n",
    "            {\n",
    "                \"role\": \"user\",\n",
    "                \"content\": [\n",
    "                    {\n",
    "                        \"type\": \"text\",\n",
    "                        \"text\": USER_PROMPT,\n",
    "                    },\n",
    "                    {\n",
    "                        \"type\": \"image\",\n",
    "                        \"source\": {\n",
    "                            \"type\": \"base64\",\n",
    "                            \"media_type\": \"image/png\",\n",
    "                            \"data\": base64_image,\n",
    "                        },\n",
    "                    },\n",
    "                ],\n",
    "            },\n",
    "        ],\n",
    "        model=\"claude-3-opus-20240229\",\n",
    "    )\n",
    "    return response"
   ]
  },
  {
   "cell_type": "code",
   "execution_count": 13,
   "metadata": {},
   "outputs": [],
   "source": [
    "image_path = \"../data/kokoro-ruby-1.png\"\n",
    "response = extract_text(image_path)"
   ]
  },
  {
   "cell_type": "code",
   "execution_count": 14,
   "metadata": {},
   "outputs": [
    {
     "data": {
      "text/plain": [
       "Message(id='msg_01YScJpTBaS3pfYbGuD5onSF', content=[ContentBlock(text='かにちからそのからはこれらについてのすすめ私\\nは，先生らはみな先生であるとはとうてい思い\\nえない。私は先生らの人格を疑っているわけでは\\nない。私は私と同じ目から先生らを見る。私と同\\nじように行動の色が，推移をまれて白く現れて白\\nい影になってそれがまた推移をくむのであり，あ\\nる時は，灰色に私に現れる先生ら人の姿もある\\nのだ。私がある先生を見るに，上は白く下は灰色\\nである。そのような，人格の遜色が私の眼にはく\\nっきりと見えるのでいい加減にない。私はどうし\\nても一人の先生への私とまじめない気持は，先生\\nの人格を疑って，そしてみだりに心の平静を得よ\\nうとしているのだと思う。先生らの心を知るには\\nない。大先生が，先生らはそのままで，あってよ\\nいとは一度おっしゃったことがあるのを，鮮明に\\n心に残している。', type='text')], model='claude-3-opus-20240229', role='assistant', stop_reason='end_turn', stop_sequence=None, type='message', usage=Usage(input_tokens=1664, output_tokens=337))"
      ]
     },
     "execution_count": 14,
     "metadata": {},
     "output_type": "execute_result"
    }
   ],
   "source": [
    "response"
   ]
  }
 ],
 "metadata": {
  "kernelspec": {
   "display_name": ".venv",
   "language": "python",
   "name": "python3"
  },
  "language_info": {
   "codemirror_mode": {
    "name": "ipython",
    "version": 3
   },
   "file_extension": ".py",
   "mimetype": "text/x-python",
   "name": "python",
   "nbconvert_exporter": "python",
   "pygments_lexer": "ipython3",
   "version": "3.11.2"
  }
 },
 "nbformat": 4,
 "nbformat_minor": 2
}
