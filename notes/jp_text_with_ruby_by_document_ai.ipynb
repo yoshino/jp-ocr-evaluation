{
 "cells": [
  {
   "cell_type": "markdown",
   "metadata": {},
   "source": [
    "# ルビ付きの日本語文章に対するORC by Google Document AI API\n",
    "- [PythonからGoogle CloudのDocument AIの文字認識（AI OCR）を使用してテキストを抽出する](https://it-ouji.com/2023/03/17/document-ai-ocr/)を参考にしてGoogleの設定を行う。\n",
    "- 請求先の設定が有効にされていないと権限エラーが出力されてしまうので注意。  "
   ]
  },
  {
   "cell_type": "code",
   "execution_count": 1,
   "metadata": {},
   "outputs": [
    {
     "data": {
      "text/plain": [
       "True"
      ]
     },
     "execution_count": 1,
     "metadata": {},
     "output_type": "execute_result"
    }
   ],
   "source": [
    "import os\n",
    "import sys\n",
    "from dotenv import load_dotenv\n",
    "from google.cloud import documentai_v1 as documentai\n",
    "\n",
    "load_dotenv(verbose=True)"
   ]
  },
  {
   "cell_type": "code",
   "execution_count": 2,
   "metadata": {},
   "outputs": [],
   "source": [
    " def process_document(project_id: str, location: str,\n",
    "                     processor_id: str, file_path: str,\n",
    "                     mime_type: str) -> documentai.Document:\n",
    "    \"\"\"\n",
    "    Processes a document using the Document AI API.\n",
    "    \"\"\"\n",
    " \n",
    "    # Instantiates a client\n",
    "    documentai_client = documentai.DocumentProcessorServiceClient()\n",
    " \n",
    "    # The full resource name of the processor, e.g.:\n",
    "    # projects/project-id/locations/location/processor/processor-id\n",
    "    # You must create new processors in the Cloud Console first\n",
    "    resource_name = documentai_client.processor_path(\n",
    "        project_id, location, processor_id)\n",
    " \n",
    "    # Read the file into memory\n",
    "    with open(file_path, \"rb\") as image:\n",
    "        image_content = image.read()\n",
    " \n",
    "        # Load Binary Data into Document AI RawDocument Object\n",
    "        raw_document = documentai.RawDocument(\n",
    "            content=image_content, mime_type=mime_type)\n",
    " \n",
    "        # Configure the process request\n",
    "        request = documentai.ProcessRequest(\n",
    "            name=resource_name, raw_document=raw_document)\n",
    " \n",
    "        # Use the Document AI client to process the sample form\n",
    "        result = documentai_client.process_document(request=request)\n",
    " \n",
    "        return result.document\n",
    " \n",
    "\n",
    "def extract_text(input_file_path: str, mime_type='image/png'):\n",
    "    location = 'us'  \n",
    " \n",
    "    document = process_document(\n",
    "        location=location,\n",
    "        file_path=input_file_path,\n",
    "        mime_type=mime_type,\n",
    "        project_id=os.environ['DOCUMENT_AI_PROJECT_ID'], \n",
    "        processor_id=os.environ['DOCUMENT_AI_PROCESSOR_ID']\n",
    "    )\n",
    "\n",
    "    return document.text"
   ]
  },
  {
   "cell_type": "code",
   "execution_count": 3,
   "metadata": {},
   "outputs": [],
   "source": [
    "image_path = \"../data/kokoro-ruby-1.png\"\n",
    "ocr_result = extract_text_from_pdf(image_path)"
   ]
  },
  {
   "cell_type": "code",
   "execution_count": 5,
   "metadata": {},
   "outputs": [
    {
     "name": "stdout",
     "output_type": "stream",
     "text": [
      "上先生と私\n",
      "わたくし\n",
      "くめん\n",
      "ある。\n",
      "なわて\n",
      "私はその人を常に先生と呼んでいた。 だからここでもただ先生と書くだけで本名は打ち明け\n",
      "ない。これは世間を憚かる遠慮というよりも、その方が私にとって自然だからである。私はそ\n",
      "の人の記憶を呼び起すごとに、すぐ「先生」といいたくなる。筆を執っても心持は同じ事であ\n",
      "からもじ\n",
      "る。よそよそしい頭文字などはとても使う気にならない。\n",
      "かまくら\n",
      "私が先生と知り合いになったのは鎌倉である。その時私はまだ若々しい書生であった。 暑中\n",
      "休暇を利用して海水浴に行った友達からぜひ来いという端書を受け取ったので、私は多少の金\n",
      "かんじん\n",
      "さんち\n",
      "を工面して、出掛ける事にした。私は金の工面に二、三日を費やした。ところが私が鎌倉に着\n",
      "いて三日と経たないうちに、私を呼び寄せた友達は、急に国元から帰れという電報を受け取っ\n",
      "た。電報には母が病気だからと断ってあったけれども友達はそれを信じなかった。 友達はかね\n",
      "てから国元にいる親たちに勧まない結婚を強いられていた。彼は現代の習慣からいうと結婚す\n",
      "るにはあまり年が若過ぎた。それに肝心の当人が気に入らなかった。それで夏休みに当然帰る\n",
      "べきところを、わざと避けて東京の近くで遊んでいたのである。彼は電報を私に見せてどうし\n",
      "ようと相談をした。私にはどうしていいか分らなかった。けれども実際彼の母が病気であると\n",
      "すれば彼は固より帰るべきはずであった。 それで彼はとうとう帰る事になった。せっかく来た\n",
      "私は一人取り残された。\n",
      "だいぶひかず\n",
      "むすこ\n",
      "学校の授業が始まるにはまだ大分日数があるので鎌倉におってもよし、帰ってもよいという\n",
      "境遇にいた私は、当分元の宿に留まる覚悟をした。友達は中国のある資産家の息子で金に不自\n",
      "由のない男であったけれども、学校が学校なのと年が年なので、生活の程度は私とそう変りも\n",
      "しなかった。したがって一人ぼっちになった私は別に恰好な宿を探す面倒ももたなかったので\n",
      "へんび\n",
      "ひとり\n",
      "たまっ\n",
      "かっこう\n",
      "宿は鎌倉でも辺鄙な方角にあった。玉突きだのアイスクリームだのというハイカラなものに\n",
      "は長い畷を一つ越さなければ手が届かなかった。車で行っても二十銭は取られた。けれども個\n",
      "11\n",
      "わたくし\n",
      "ひざがしら\n",
      "人の別荘はそこここにいくつでも建てられていた。それに海へはごく近いので海水浴をやるに\n",
      "は至極便利な地位を占めていた。\n",
      "わらぶき\n",
      "あいだ\n",
      "私は毎日海へはいりに出掛けた。古い燻ぶり返った藁葺の間を通り抜けて磯へ下りると、こ\n",
      "の辺にこれほどの都会人種が住んでいるかと思うほど、避暑に来た男や女で砂の上が動いてい\n",
      "た。ある時は海の中が銭湯のように黒い頭でごちゃごちゃしている事もあった。その中に知っ\n",
      "た人を一人ももたない私も、こういう賑やかな景色の中に裏まれて、砂の上に寝そべってみた\n",
      "にぎ\n",
      "はまわ\n",
      "り、膝頭を波に打たしてそこいらを跳ね廻るのは愉快であった。\n",
      "ざっとう あいだ\n",
      "かけぢゃや\n",
      "私は実に先生をこの雑沓の間に見付け出したのである。その時海岸には掛茶屋が二軒あった。\n",
      "私はふとした機会からその一軒の方に行き慣れていた。長谷辺に大きな別荘を構えている人と\n",
      "めいめい\n",
      "さえぎ\n",
      "きがえば こしら\n",
      "はせへん\n",
      "違って、各自に専有の着換場を拵えていないここいらの避暑客には、ぜひともこうした共同着\n",
      "換所といった風なものが必要なのであった。彼らはここで茶を飲み、ここで休息する外に、こ\n",
      "しお\n",
      "からだ\n",
      "かさ\n",
      "こで海水着を洗濯させたり、ここで鹹はゆい身体を清めたり、ここへ帽子や傘を預けたりする\n",
      "のである。海水着を持たない私にも持物を盗まれる恐れはあったので、私は海へはいるたびに\n",
      "いっさい\n",
      "その茶屋へ一切を脱ぎ棄てる事にしていた。\n",
      "からだ\n",
      "私がその掛茶屋で先生を見た時は、先生がちょうど着物を脱いでこれから海へ入ろうとする\n",
      "ところであった。私はその時反対に濡れた身体を風に吹かして水から上がって来た。二人の間\n",
      "には目を遮る幾多の黒い頭が動いていた。特別の事情のない限り、私はついに先生を見逃した\n",
      "かも知れなかった。それほど浜辺が混雑し、それほど私の頭が放漫であったにもかかわらず、\n",
      "私がすぐ先生を見付け出したのは、先生が一人の西洋人を伴れていたからである。\n",
      "ほうまん\n",
      "その西洋人の優れて白い皮膚の色が、掛茶屋へ入るや否や、すぐ私の注意を惹いた。純粋の\n",
      "ほか\n",
      "あいだ\n",
      "\n"
     ]
    }
   ],
   "source": [
    "print(ocr_result)"
   ]
  }
 ],
 "metadata": {
  "kernelspec": {
   "display_name": ".venv",
   "language": "python",
   "name": "python3"
  },
  "language_info": {
   "codemirror_mode": {
    "name": "ipython",
    "version": 3
   },
   "file_extension": ".py",
   "mimetype": "text/x-python",
   "name": "python",
   "nbconvert_exporter": "python",
   "pygments_lexer": "ipython3",
   "version": "3.11.2"
  }
 },
 "nbformat": 4,
 "nbformat_minor": 2
}
